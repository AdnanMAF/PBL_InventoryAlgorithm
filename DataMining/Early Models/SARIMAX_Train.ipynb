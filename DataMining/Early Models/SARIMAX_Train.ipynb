{
 "cells": [
  {
   "cell_type": "code",
   "execution_count": null,
   "id": "ad01b3c7",
   "metadata": {},
   "outputs": [],
   "source": [
    "import os\n",
    "import pandas as pd\n",
    "import numpy as np\n",
    "import matplotlib.pyplot as plt\n",
    "import warnings\n",
    "\n",
    "from statsmodels.tsa.stattools import adfuller\n",
    "from statsmodels.tsa.statespace.sarimax import SARIMAX, SARIMAXResults\n",
    "from sklearn.metrics import (\n",
    "    mean_squared_error,\n",
    "    mean_absolute_error,\n",
    "    r2_score\n",
    ")\n",
    "from pmdarima import auto_arima\n",
    "# Suppress warnings (optional)\n",
    "warnings.filterwarnings(\"ignore\")"
   ]
  },
  {
   "cell_type": "code",
   "execution_count": null,
   "id": "23745fcc",
   "metadata": {},
   "outputs": [],
   "source": [
    "# ─── Config ────────────────────────────────────────────────────────────────────\n",
    "DATA_PATH   = '../data/dm/train.csv'\n",
    "MODEL_DIR   = '/models'\n",
    "MODEL_PATH  = os.path.join(MODEL_DIR, 'sarimax_AUTOMOTIVE.pkl')\n",
    "os.makedirs(MODEL_DIR, exist_ok=True)"
   ]
  },
  {
   "cell_type": "code",
   "execution_count": null,
   "id": "06f81b31",
   "metadata": {},
   "outputs": [],
   "source": [
    "# ─── 1. Load & Preprocess ───────────────────────────────────────────────────────\n",
    "df = pd.read_csv(DATA_PATH, parse_dates=['date'])\n",
    "df.drop(columns=['id'], inplace=True)\n",
    "df = df[df['family']=='AUTOMOTIVE']\n",
    "\n",
    "# aggregate daily across all stores\n",
    "autodf = (\n",
    "    df\n",
    "    .groupby('date')[['sales','onpromotion']]\n",
    "    .sum()\n",
    ")\n",
    "autodf.index = pd.DatetimeIndex(autodf.index).to_period('D')\n",
    "autodf['y']  = np.log1p(autodf['sales'])\n",
    "\n",
    "# keep 2017+ for plotting\n",
    "autoplot = autodf.loc[autodf.index.to_timestamp() >= '2017-01-01']"
   ]
  },
  {
   "cell_type": "code",
   "execution_count": null,
   "id": "333d850f",
   "metadata": {},
   "outputs": [],
   "source": [
    "# ─── 3. Auto-ARIMA order selection (once) ───────────────────────────────────────\n",
    "stepwise = auto_arima(\n",
    "    autodf['y'],\n",
    "    seasonal=True, m=7,\n",
    "    start_p=0, start_q=0, max_p=5, max_q=5,\n",
    "    start_P=0, start_Q=0, max_P=2, max_Q=2,\n",
    "    d=None, D=None,\n",
    "    trace=True,\n",
    "    suppress_warnings=True,\n",
    "    error_action='ignore'\n",
    ")\n",
    "order          = stepwise.order\n",
    "seasonal_order = stepwise.seasonal_order"
   ]
  },
  {
   "cell_type": "code",
   "execution_count": null,
   "id": "b2fc49c4",
   "metadata": {},
   "outputs": [],
   "source": [
    "# ─── 4. Load or Fit & Save SARIMAX ──────────────────────────────────────────────\n",
    "if os.path.exists(MODEL_PATH):\n",
    "    print(\"Loading saved model…\")\n",
    "    fit = SARIMAXResults.load(MODEL_PATH)\n",
    "else:\n",
    "    print(\"Fitting new model…\")\n",
    "    model = SARIMAX(\n",
    "        autodf['y'],\n",
    "        exog=autodf[['onpromotion']],\n",
    "        order=order,\n",
    "        seasonal_order=seasonal_order,\n",
    "        enforce_stationarity=False,\n",
    "        enforce_invertibility=False\n",
    "    )\n",
    "    fit = model.fit(disp=False)\n",
    "    fit.save(MODEL_PATH)\n",
    "    print(f\"Model saved to {MODEL_PATH!r}\")"
   ]
  },
  {
   "cell_type": "code",
   "execution_count": null,
   "id": "b886804a",
   "metadata": {},
   "outputs": [],
   "source": [
    "# ─── 5. Forecast last 14 days ───────────────────────────────────────────────────\n",
    "n_test    = 14\n",
    "train     = autodf.iloc[:-n_test]\n",
    "test      = autodf.iloc[-n_test:]\n",
    "exog_test = test[['onpromotion']]\n",
    "\n",
    "pred_log  = fit.get_forecast(steps=n_test, exog=exog_test).predicted_mean\n",
    "pred      = np.expm1(pred_log)"
   ]
  },
  {
   "cell_type": "code",
   "execution_count": null,
   "id": "350a10c4",
   "metadata": {},
   "outputs": [],
   "source": [
    "# ─── 6. Compute Metrics ─────────────────────────────────────────────────────────\n",
    "# RMSE\n",
    "mse   = mean_squared_error(test['sales'], pred)\n",
    "rmse  = np.sqrt(mse)\n",
    "\n",
    "# MAE\n",
    "mae   = mean_absolute_error(test['sales'], pred)\n",
    "\n",
    "# R²\n",
    "r2    = r2_score(test['sales'], pred)\n",
    "\n",
    "# Mean daily sales (for relative RMSE)\n",
    "mean_sales     = autodf['sales'].mean()\n",
    "rel_rmse_pct   = 100 * rmse / mean_sales\n",
    "\n",
    "# MAPE\n",
    "mape = np.mean(np.abs((test['sales'] - pred) / test['sales'])) * 100"
   ]
  },
  {
   "cell_type": "code",
   "execution_count": null,
   "id": "d5a05fdb",
   "metadata": {},
   "outputs": [],
   "source": [
    "# ─── 7. Print Results ───────────────────────────────────────────────────────────\n",
    "print(f\"\\nTest RMSE:           {rmse:.2f} units\")\n",
    "print(f\"Mean daily sales:    {mean_sales:.2f} units\")\n",
    "print(f\"Relative RMSE:       {rel_rmse_pct:.2f}% of mean sales\")\n",
    "print(f\"MAPE:                {mape:.2f}%\")\n",
    "print(f\"MAE:                 {mae:.2f} units\")\n",
    "print(f\"R² (coefficient of determination): {r2:.3f}\")"
   ]
  },
  {
   "cell_type": "code",
   "execution_count": null,
   "id": "a2179926",
   "metadata": {},
   "outputs": [],
   "source": [
    "# ─── 8. Plot ────────────────────────────────────────────────────────────────────\n",
    "plt.figure(figsize=(10,4))\n",
    "plt.plot(autoplot.index.to_timestamp(), np.expm1(autoplot['y']), label='History (2017+)')\n",
    "plt.plot(test.index.to_timestamp(), pred,                  label='Forecast')\n",
    "plt.legend(loc='upper left')\n",
    "plt.title(\"AUTOMOTIVE Sales – SARIMAX Forecast\")\n",
    "plt.grid(True)\n",
    "plt.tight_layout()\n",
    "plt.show()"
   ]
  }
 ],
 "metadata": {
  "kernelspec": {
   "display_name": "tf-gpu",
   "language": "python",
   "name": "python3"
  },
  "language_info": {
   "codemirror_mode": {
    "name": "ipython",
    "version": 3
   },
   "file_extension": ".py",
   "mimetype": "text/x-python",
   "name": "python",
   "nbconvert_exporter": "python",
   "pygments_lexer": "ipython3",
   "version": "3.9.22"
  }
 },
 "nbformat": 4,
 "nbformat_minor": 5
}
