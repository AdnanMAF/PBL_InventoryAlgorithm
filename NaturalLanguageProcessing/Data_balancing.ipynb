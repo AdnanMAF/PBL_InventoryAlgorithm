{
 "cells": [
  {
   "cell_type": "code",
   "execution_count": 1,
   "id": "16705600",
   "metadata": {},
   "outputs": [],
   "source": [
    "import pandas as pd\n",
    "from sklearn.preprocessing import LabelEncoder\n",
    "from sklearn.utils import resample\n",
    "from sklearn.utils.class_weight import compute_class_weight"
   ]
  },
  {
   "cell_type": "code",
   "execution_count": 2,
   "id": "80415c0d",
   "metadata": {},
   "outputs": [],
   "source": [
    "# 1) Load your original, imbalanced CSV\n",
    "df = pd.read_csv(\"../Data/NLP/cleaned_news_sentiment.csv\")"
   ]
  },
  {
   "cell_type": "code",
   "execution_count": 3,
   "id": "50ebc9ac",
   "metadata": {},
   "outputs": [],
   "source": [
    "# 2) Split out each class\n",
    "df_neg = df[df[\"sentiment\"] == \"negative\"]\n",
    "df_pos = df[df[\"sentiment\"] == \"positive\"]\n",
    "df_neu = df[df[\"sentiment\"] == \"neutral\"]"
   ]
  },
  {
   "cell_type": "code",
   "execution_count": 4,
   "id": "75a82537",
   "metadata": {},
   "outputs": [],
   "source": [
    "# 3) Down‐sample 'neutral' to a target size (e.g. 80)\n",
    "TARGET_NEUTRAL = 80\n",
    "df_neu_down = df_neu.sample(n=TARGET_NEUTRAL, random_state=42)"
   ]
  },
  {
   "cell_type": "code",
   "execution_count": 5,
   "id": "935bae14",
   "metadata": {},
   "outputs": [],
   "source": [
    "# 4) Re-assemble your balanced DataFrame\n",
    "df_bal = pd.concat([df_neg, df_pos, df_neu_down], axis=0).sample(frac=1, random_state=42).reset_index(drop=True)"
   ]
  },
  {
   "cell_type": "code",
   "execution_count": 6,
   "id": "b39bdb7a",
   "metadata": {},
   "outputs": [],
   "source": [
    "# 5) Encode labels as integers\n",
    "le = LabelEncoder()\n",
    "df_bal[\"label\"] = le.fit_transform(df_bal[\"sentiment\"])"
   ]
  },
  {
   "cell_type": "code",
   "execution_count": 7,
   "id": "b6be9064",
   "metadata": {},
   "outputs": [],
   "source": [
    "# 6) Compute class weights for use in model.fit(class_weight=...)\n",
    "weights = compute_class_weight(\n",
    "    class_weight=\"balanced\",\n",
    "    classes=le.classes_,\n",
    "    y=df_bal[\"sentiment\"]\n",
    ")\n",
    "class_weight_dict = dict(zip(range(len(weights)), weights))"
   ]
  },
  {
   "cell_type": "code",
   "execution_count": 8,
   "id": "56779df8",
   "metadata": {},
   "outputs": [
    {
     "name": "stdout",
     "output_type": "stream",
     "text": [
      "New class counts:\n",
      " sentiment\n",
      "neutral     80\n",
      "negative    56\n",
      "positive    29\n",
      "Name: count, dtype: int64 \n",
      "\n",
      "Label mapping: {'negative': 0, 'neutral': 1, 'positive': 2}\n",
      "Class‐weight dict: {0: 0.9821428571428571, 1: 0.6875, 2: 1.896551724137931}\n"
     ]
    }
   ],
   "source": [
    "# 7) Inspect the result\n",
    "print(\"New class counts:\\n\", df_bal[\"sentiment\"].value_counts(), \"\\n\")\n",
    "print(\"Label mapping:\", dict(zip(le.classes_, le.transform(le.classes_))))\n",
    "print(\"Class‐weight dict:\", class_weight_dict)"
   ]
  },
  {
   "cell_type": "code",
   "execution_count": 9,
   "id": "27c56d59",
   "metadata": {},
   "outputs": [],
   "source": [
    "# 8) (Optional) save balanced CSV for downstream steps\n",
    "df_bal.to_csv(\"../Data/NLP/news_sentiment_balanced.csv\", index=False, encoding=\"utf-8-sig\")"
   ]
  }
 ],
 "metadata": {
  "kernelspec": {
   "display_name": "tf-gpu",
   "language": "python",
   "name": "python3"
  },
  "language_info": {
   "codemirror_mode": {
    "name": "ipython",
    "version": 3
   },
   "file_extension": ".py",
   "mimetype": "text/x-python",
   "name": "python",
   "nbconvert_exporter": "python",
   "pygments_lexer": "ipython3",
   "version": "3.9.22"
  }
 },
 "nbformat": 4,
 "nbformat_minor": 5
}
