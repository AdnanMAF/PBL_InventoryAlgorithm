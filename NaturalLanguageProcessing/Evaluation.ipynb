{
 "cells": [
  {
   "cell_type": "code",
   "execution_count": 1,
   "id": "3f070f59",
   "metadata": {},
   "outputs": [
    {
     "name": "stderr",
     "output_type": "stream",
     "text": [
      "g:\\Apps\\Anaconda\\envs\\tf-gpu\\lib\\site-packages\\tqdm\\auto.py:21: TqdmWarning: IProgress not found. Please update jupyter and ipywidgets. See https://ipywidgets.readthedocs.io/en/stable/user_install.html\n",
      "  from .autonotebook import tqdm as notebook_tqdm\n"
     ]
    }
   ],
   "source": [
    "import pandas as pd\n",
    "import numpy as np\n",
    "import matplotlib.pyplot as plt\n",
    "import tensorflow as tf\n",
    "from transformers import DistilBertTokenizer, TFDistilBertForSequenceClassification\n",
    "from sklearn.preprocessing import LabelEncoder\n",
    "from sklearn.model_selection import train_test_split\n",
    "from sklearn.metrics import confusion_matrix, ConfusionMatrixDisplay, classification_report"
   ]
  },
  {
   "cell_type": "code",
   "execution_count": 2,
   "id": "ddfa1f99",
   "metadata": {},
   "outputs": [
    {
     "name": "stderr",
     "output_type": "stream",
     "text": [
      "All model checkpoint layers were used when initializing TFDistilBertForSequenceClassification.\n",
      "\n",
      "All the layers of TFDistilBertForSequenceClassification were initialized from the model checkpoint at ./Models/saved_model_distilbert_balanced.\n",
      "If your task is similar to the task the model of the checkpoint was trained on, you can already use TFDistilBertForSequenceClassification for predictions without further training.\n"
     ]
    }
   ],
   "source": [
    "# 1) Reload the fine-tuned model & tokenizer\n",
    "model = TFDistilBertForSequenceClassification.from_pretrained('./Models/saved_model_distilbert_balanced')\n",
    "tokenizer = DistilBertTokenizer.from_pretrained('./Models/saved_model_distilbert_balanced')"
   ]
  },
  {
   "cell_type": "code",
   "execution_count": 3,
   "id": "1ddb1bfd",
   "metadata": {},
   "outputs": [],
   "source": [
    "# 2) Reload and prepare your balanced dataset\n",
    "df = pd.read_csv(\"../Data/NLP/news_sentiment_balanced.csv\")\n",
    "df[\"text\"] = (\n",
    "    df[\"title_clean\"].fillna(\"\") + \" \"\n",
    "  + df[\"description_clean\"].fillna(\"\") + \" \"\n",
    "  + df[\"content_clean\"].fillna(\"\")\n",
    ")\n",
    "le = LabelEncoder()\n",
    "df[\"label\"] = le.fit_transform(df[\"sentiment\"])"
   ]
  },
  {
   "cell_type": "code",
   "execution_count": 4,
   "id": "43453bbb",
   "metadata": {},
   "outputs": [],
   "source": [
    "# 3) Same stratified split to get the validation set\n",
    "_, val_texts, _, val_labels = train_test_split(\n",
    "    df[\"text\"].tolist(),\n",
    "    df[\"label\"].tolist(),\n",
    "    test_size=0.2,\n",
    "    stratify=df[\"label\"],\n",
    "    random_state=42\n",
    ")"
   ]
  },
  {
   "cell_type": "code",
   "execution_count": 5,
   "id": "e2dc0848",
   "metadata": {},
   "outputs": [],
   "source": [
    "# 4) Tokenize and batch\n",
    "val_enc = tokenizer(val_texts, truncation=True, padding=True, max_length=64, return_tensors=\"tf\")\n",
    "val_ds  = tf.data.Dataset.from_tensor_slices(dict(val_enc)).batch(8)"
   ]
  },
  {
   "cell_type": "code",
   "execution_count": 6,
   "id": "86592e9d",
   "metadata": {},
   "outputs": [
    {
     "name": "stdout",
     "output_type": "stream",
     "text": [
      "5/5 [==============================] - 4s 39ms/step\n"
     ]
    }
   ],
   "source": [
    "# 5) Predict\n",
    "logits     = model.predict(val_ds).logits\n",
    "pred_labels = tf.argmax(logits, axis=1).numpy()\n",
    "true_labels = np.array(val_labels)"
   ]
  },
  {
   "cell_type": "code",
   "execution_count": 7,
   "id": "dc486888",
   "metadata": {},
   "outputs": [
    {
     "data": {
      "text/plain": [
       "<Figure size 600x500 with 0 Axes>"
      ]
     },
     "metadata": {},
     "output_type": "display_data"
    },
    {
     "data": {
      "image/png": "[encoded data removed]",
      "text/plain": [
       "<Figure size 640x480 with 2 Axes>"
      ]
     },
     "metadata": {},
     "output_type": "display_data"
    }
   ],
   "source": [
    "# 6) Confusion matrix\n",
    "cm = confusion_matrix(true_labels, pred_labels)\n",
    "disp = ConfusionMatrixDisplay(cm, display_labels=le.classes_)\n",
    "plt.figure(figsize=(6,5))\n",
    "disp.plot(cmap=plt.cm.Blues, values_format='d')\n",
    "plt.title(\"Confusion Matrix\")\n",
    "plt.grid(False)\n",
    "plt.show()"
   ]
  },
  {
   "cell_type": "code",
   "execution_count": 8,
   "id": "dedd5d1f",
   "metadata": {},
   "outputs": [
    {
     "name": "stdout",
     "output_type": "stream",
     "text": [
      "\n",
      "Classification Report:\n",
      "\n",
      "              precision    recall  f1-score   support\n",
      "\n",
      "    negative       0.90      0.82      0.86        11\n",
      "     neutral       0.82      0.88      0.85        16\n",
      "    positive       0.83      0.83      0.83         6\n",
      "\n",
      "    accuracy                           0.85        33\n",
      "   macro avg       0.85      0.84      0.85        33\n",
      "weighted avg       0.85      0.85      0.85        33\n",
      "\n"
     ]
    }
   ],
   "source": [
    "# 7) Classification report\n",
    "print(\"\\nClassification Report:\\n\")\n",
    "print(classification_report(true_labels, pred_labels, target_names=le.classes_))"
   ]
  }
 ],
 "metadata": {
  "kernelspec": {
   "display_name": "tf-gpu",
   "language": "python",
   "name": "python3"
  },
  "language_info": {
   "codemirror_mode": {
    "name": "ipython",
    "version": 3
   },
   "file_extension": ".py",
   "mimetype": "text/x-python",
   "name": "python",
   "nbconvert_exporter": "python",
   "pygments_lexer": "ipython3",
   "version": "3.9.22"
  }
 },
 "nbformat": 4,
 "nbformat_minor": 5
}
